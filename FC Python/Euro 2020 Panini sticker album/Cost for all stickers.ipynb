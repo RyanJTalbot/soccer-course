{
 "cells": [
  {
   "cell_type": "markdown",
   "metadata": {},
   "source": [
    "## The only official sticker collection!\n",
    "Stick and swap with the FIFA World Cup™!\n",
    "\n",
    "#### Complete your album, <b>638 stickers<b/> to collect!"
   ]
  },
  {
   "cell_type": "code",
   "execution_count": 1,
   "metadata": {},
   "outputs": [],
   "source": [
    "import pandas as pd \n",
    "import numpy as np"
   ]
  },
  {
   "cell_type": "code",
   "execution_count": 2,
   "metadata": {},
   "outputs": [],
   "source": [
    "stickerAlbum = []\n",
    "stickersRemaining = 638 - len(stickerAlbum) \n",
    "\n",
    "swapsCollection = []\n",
    "swapStickers = len(swapsCollection)\n",
    "\n",
    "packetsBought = 0"
   ]
  },
  {
   "cell_type": "markdown",
   "metadata": {},
   "source": [
    "## Opening a pack\n",
    "\n",
    "The process of opening a pack is simple. We need to give ourselves 5 random numbers between 1 and 568 then check if we have them in our album already.\n",
    "\n",
    "If we do not have them, they get ‘stuck in’ – appended to our album array. If not, they go into the swaps bin.\n",
    "\n",
    "We are going to open lots of packs, so let’s wrap this up in a neat openPacket() function."
   ]
  },
  {
   "cell_type": "code",
   "execution_count": 3,
   "metadata": {},
   "outputs": [],
   "source": [
    "def openPacket(packSize = 5):\n",
    "    \n",
    "\t#Referencing values outside the function\n",
    "    global packetsBought, stickersRemaining, swapStickers\n",
    "    \n",
    "    packetsBought += 1\n",
    "    \n",
    "    stickers = np.random.randint(low = 1, high = 639, size = packSize) #High is non-inclusive\n",
    "    \n",
    "    for sticker in stickers:\n",
    "        if sticker not in stickerAlbum:\n",
    "            stickerAlbum.append(sticker)\n",
    "        else:\n",
    "            swapsCollection.append(sticker)\n",
    "        \n",
    "    stickersRemaining = 638 - len(stickerAlbum)\n",
    "    swapStickers = len(swapsCollection)"
   ]
  },
  {
   "cell_type": "markdown",
   "metadata": {},
   "source": [
    "We can now open a pack and see what that does to our collection:"
   ]
  },
  {
   "cell_type": "code",
   "execution_count": 4,
   "metadata": {},
   "outputs": [
    {
     "name": "stdout",
     "output_type": "stream",
     "text": [
      "You have 633 stickers to go, from 1 pack(s)\n"
     ]
    }
   ],
   "source": [
    "openPacket()\n",
    "\n",
    "print('You have {a} stickers to go, from {b} pack(s)'.format(a=stickersRemaining, b=packetsBought))"
   ]
  },
  {
   "cell_type": "markdown",
   "metadata": {},
   "source": [
    "## Simulating the collection process\n",
    "\n",
    "We have our album, we have unlimited packs, now we simply have to wrap this in a loop to run until we have a full collection. You may need to reset your album and collection variables from the first code window."
   ]
  },
  {
   "cell_type": "code",
   "execution_count": 5,
   "metadata": {},
   "outputs": [
    {
     "name": "stdout",
     "output_type": "stream",
     "text": [
      "851\n"
     ]
    }
   ],
   "source": [
    "while stickersRemaining > 0:\n",
    "    openPacket()\n",
    "    \n",
    "print(packetsBought)"
   ]
  },
  {
   "cell_type": "markdown",
   "metadata": {},
   "source": [
    "if it cost 1 dollar for a pack then it will cost approx. 649 - 1341 dollars to collect all the stickers"
   ]
  },
  {
   "cell_type": "code",
   "execution_count": 6,
   "metadata": {},
   "outputs": [
    {
     "name": "stdout",
     "output_type": "stream",
     "text": [
      "851\n"
     ]
    }
   ],
   "source": [
    "while stickersRemaining > (638 - (638*.1)):\n",
    "    openPacket()\n",
    "    \n",
    "print(packetsBought)"
   ]
  },
  {
   "cell_type": "code",
   "execution_count": null,
   "metadata": {},
   "outputs": [],
   "source": []
  }
 ],
 "metadata": {
  "kernelspec": {
   "display_name": "Python 3 (ipykernel)",
   "language": "python",
   "name": "python3"
  },
  "language_info": {
   "codemirror_mode": {
    "name": "ipython",
    "version": 3
   },
   "file_extension": ".py",
   "mimetype": "text/x-python",
   "name": "python",
   "nbconvert_exporter": "python",
   "pygments_lexer": "ipython3",
   "version": "3.9.12"
  }
 },
 "nbformat": 4,
 "nbformat_minor": 2
}
