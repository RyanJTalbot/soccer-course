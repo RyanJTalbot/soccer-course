{
 "cells": [
  {
   "cell_type": "code",
   "execution_count": 1,
   "metadata": {},
   "outputs": [],
   "source": [
    "import random"
   ]
  },
  {
   "cell_type": "code",
   "execution_count": 2,
   "metadata": {},
   "outputs": [
    {
     "data": {
      "text/plain": [
       "0.5024724613918272"
      ]
     },
     "execution_count": 2,
     "metadata": {},
     "output_type": "execute_result"
    }
   ],
   "source": [
    "random.random()"
   ]
  },
  {
   "cell_type": "code",
   "execution_count": 3,
   "metadata": {},
   "outputs": [
    {
     "data": {
      "text/plain": [
       "22"
      ]
     },
     "execution_count": 3,
     "metadata": {},
     "output_type": "execute_result"
    }
   ],
   "source": [
    "int(random.random()*100)"
   ]
  },
  {
   "cell_type": "code",
   "execution_count": 4,
   "metadata": {},
   "outputs": [
    {
     "data": {
      "text/plain": [
       "6"
      ]
     },
     "execution_count": 4,
     "metadata": {},
     "output_type": "execute_result"
    }
   ],
   "source": [
    "random.randint(1,6)"
   ]
  },
  {
   "cell_type": "code",
   "execution_count": 5,
   "metadata": {},
   "outputs": [
    {
     "data": {
      "text/plain": [
       "4"
      ]
     },
     "execution_count": 5,
     "metadata": {},
     "output_type": "execute_result"
    }
   ],
   "source": [
    "random.randint(1,6)"
   ]
  },
  {
   "cell_type": "markdown",
   "metadata": {},
   "source": [
    "# Applying Random to Expected Goals"
   ]
  },
  {
   "cell_type": "code",
   "execution_count": 6,
   "metadata": {},
   "outputs": [],
   "source": [
    "HomexG = [0.21,0.66,0.1,0.14,0.01]\n",
    "AwayxG = [0.04,0.06,0.01,0.04,0.06,0.12,0.01,0.06]"
   ]
  },
  {
   "cell_type": "code",
   "execution_count": 7,
   "metadata": {},
   "outputs": [
    {
     "name": "stdout",
     "output_type": "stream",
     "text": [
      "Missed!\n"
     ]
    }
   ],
   "source": [
    "if random.random()<=0.21:\n",
    "    print(\"GOAL!\")\n",
    "else:\n",
    "    print(\"Missed!\")"
   ]
  },
  {
   "cell_type": "code",
   "execution_count": 8,
   "metadata": {},
   "outputs": [
    {
     "name": "stdout",
     "output_type": "stream",
     "text": [
      "2055\n"
     ]
    }
   ],
   "source": [
    "Goals = 0\n",
    "\n",
    "for i in range(0,10000):\n",
    "    if random.random()<=0.21:\n",
    "        Goals += 1\n",
    "\n",
    "print(Goals)"
   ]
  },
  {
   "cell_type": "code",
   "execution_count": 9,
   "metadata": {},
   "outputs": [],
   "source": [
    "def calculateWinner(home, away):\n",
    "    #Our match starts at 0-0\n",
    "    HomeGoals = 0\n",
    "    AwayGoals = 0\n",
    "    \n",
    "    #We have a function within our function\n",
    "    #This one runs the '.random()' test above for a list\n",
    "    def testShots(shots):\n",
    "        \n",
    "        #Start goal count at 0\n",
    "        Goals = 0\n",
    "        \n",
    "        #For each shot, if it goes in, add a goal\n",
    "        for shot in shots:\n",
    "            if random.random() <= shot:\n",
    "                Goals += 1\n",
    "                \n",
    "        #Finally, return the number of goals\n",
    "        return Goals\n",
    "    \n",
    "    #Run the above formula for home and away lists\n",
    "    HomeGoals = testShots(home)\n",
    "    AwayGoals = testShots(away)\n",
    "    \n",
    "    #Return the score\n",
    "    if HomeGoals > AwayGoals:\n",
    "        print(\"Home Wins! {} - {}\".format(HomeGoals, AwayGoals))\n",
    "    elif AwayGoals > HomeGoals:\n",
    "        print(\"Away Wins! {} - {}\".format(HomeGoals, AwayGoals))\n",
    "    else:\n",
    "        print(\"Share of the points! {} - {}\".format(HomeGoals, AwayGoals))"
   ]
  },
  {
   "cell_type": "code",
   "execution_count": 10,
   "metadata": {},
   "outputs": [
    {
     "name": "stdout",
     "output_type": "stream",
     "text": [
      "Home Wins! 1 - 0\n"
     ]
    }
   ],
   "source": [
    "calculateWinner(HomexG, AwayxG)"
   ]
  },
  {
   "cell_type": "code",
   "execution_count": 11,
   "metadata": {},
   "outputs": [],
   "source": [
    "def calculateWinner(home, away):\n",
    "    HomeGoals = 0\n",
    "    AwayGoals = 0\n",
    "    \n",
    "    def testShots(shots):\n",
    "        Goals = 0\n",
    "        \n",
    "        for shot in shots:\n",
    "            if random.random() <= shot:\n",
    "                Goals += 1\n",
    "        return Goals\n",
    "    \n",
    "    HomeGoals = testShots(home)\n",
    "    AwayGoals = testShots(away)\n",
    "    \n",
    "    #This is all that changes from above\n",
    "    #We now pass a simple string, rather than ask for a print out.\n",
    "    if HomeGoals > AwayGoals:\n",
    "        return(\"home\")\n",
    "    elif AwayGoals > HomeGoals:\n",
    "        return(\"away\")\n",
    "    else:\n",
    "        return(\"draw\")"
   ]
  },
  {
   "cell_type": "code",
   "execution_count": 12,
   "metadata": {},
   "outputs": [],
   "source": [
    "#Run xG calculator 10000 times to test winner %\n",
    "def calculateChance(team1, team2):\n",
    "    home = 0;\n",
    "    away = 0;\n",
    "    draw = 0;\n",
    "    \n",
    "    for i in range(0,10000):\n",
    "        matchWinner = calculateWinner(team1,team2)\n",
    "        if matchWinner == \"home\":\n",
    "            home +=1\n",
    "        elif matchWinner == \"away\":\n",
    "            away +=1\n",
    "        else:\n",
    "            draw +=1\n",
    "    \n",
    "    home = home/100\n",
    "    away = away/100\n",
    "    draw = draw/100\n",
    "    \n",
    "    print(\"Over 10000 games, home wins {}%, away wins {}% and there is a draw in {}% of games.\".format(home, away, draw))"
   ]
  },
  {
   "cell_type": "code",
   "execution_count": 13,
   "metadata": {},
   "outputs": [
    {
     "name": "stdout",
     "output_type": "stream",
     "text": [
      "Over 10000 games, home wins 61.54%, away wins 9.78% and there is a draw in 28.68% of games.\n"
     ]
    }
   ],
   "source": [
    "calculateChance(HomexG, AwayxG)"
   ]
  },
  {
   "cell_type": "code",
   "execution_count": 14,
   "metadata": {},
   "outputs": [
    {
     "name": "stdout",
     "output_type": "stream",
     "text": [
      "Over 10000 games, home wins 29.66%, away wins 24.95% and there is a draw in 45.39% of games.\n"
     ]
    }
   ],
   "source": [
    "HomexG=[0.5]\n",
    "AwayxG=[0.05,0.05,0.05,0.05,0.05,0.05,0.05,0.05,0.05,0.05]\n",
    "calculateChance(HomexG, AwayxG)"
   ]
  },
  {
   "cell_type": "markdown",
   "metadata": {},
   "source": [
    "# Streamlit"
   ]
  },
  {
   "cell_type": "code",
   "execution_count": 15,
   "metadata": {},
   "outputs": [],
   "source": [
    "import pandas as pd\n",
    "import numpy as np\n",
    "import streamlit as st"
   ]
  },
  {
   "cell_type": "code",
   "execution_count": 16,
   "metadata": {},
   "outputs": [
    {
     "data": {
      "text/plain": [
       "['/Users/ryantalbot/Desktop/soccer_ml_course/FC Python',\n",
       " '/Users/ryantalbot/opt/anaconda3/envs/tf2/lib/python39.zip',\n",
       " '/Users/ryantalbot/opt/anaconda3/envs/tf2/lib/python3.9',\n",
       " '/Users/ryantalbot/opt/anaconda3/envs/tf2/lib/python3.9/lib-dynload',\n",
       " '',\n",
       " '/Users/ryantalbot/.local/lib/python3.9/site-packages',\n",
       " '/Users/ryantalbot/opt/anaconda3/envs/tf2/lib/python3.9/site-packages']"
      ]
     },
     "execution_count": 16,
     "metadata": {},
     "output_type": "execute_result"
    }
   ],
   "source": [
    "import sys\n",
    "sys.path"
   ]
  },
  {
   "cell_type": "code",
   "execution_count": 17,
   "metadata": {},
   "outputs": [],
   "source": [
    "df = pd.read_csv('fpldata.csv')"
   ]
  },
  {
   "cell_type": "code",
   "execution_count": 18,
   "metadata": {},
   "outputs": [
    {
     "data": {
      "text/html": [
       "<div>\n",
       "<style scoped>\n",
       "    .dataframe tbody tr th:only-of-type {\n",
       "        vertical-align: middle;\n",
       "    }\n",
       "\n",
       "    .dataframe tbody tr th {\n",
       "        vertical-align: top;\n",
       "    }\n",
       "\n",
       "    .dataframe thead th {\n",
       "        text-align: right;\n",
       "    }\n",
       "</style>\n",
       "<table border=\"1\" class=\"dataframe\">\n",
       "  <thead>\n",
       "    <tr style=\"text-align: right;\">\n",
       "      <th></th>\n",
       "      <th>name</th>\n",
       "      <th>points</th>\n",
       "      <th>selected_by_percent</th>\n",
       "      <th>cost</th>\n",
       "      <th>team</th>\n",
       "      <th>minutes</th>\n",
       "      <th>goals</th>\n",
       "      <th>assists</th>\n",
       "      <th>clean_sheets</th>\n",
       "      <th>bonus</th>\n",
       "      <th>position</th>\n",
       "    </tr>\n",
       "  </thead>\n",
       "  <tbody>\n",
       "    <tr>\n",
       "      <th>0</th>\n",
       "      <td>Leno</td>\n",
       "      <td>131</td>\n",
       "      <td>2.3</td>\n",
       "      <td>5.0</td>\n",
       "      <td>Arsenal</td>\n",
       "      <td>3131</td>\n",
       "      <td>0</td>\n",
       "      <td>0</td>\n",
       "      <td>11</td>\n",
       "      <td>11</td>\n",
       "      <td>Goalkeeper</td>\n",
       "    </tr>\n",
       "    <tr>\n",
       "      <th>1</th>\n",
       "      <td>Rúnarsson</td>\n",
       "      <td>1</td>\n",
       "      <td>1.2</td>\n",
       "      <td>4.0</td>\n",
       "      <td>Arsenal</td>\n",
       "      <td>15</td>\n",
       "      <td>0</td>\n",
       "      <td>0</td>\n",
       "      <td>0</td>\n",
       "      <td>0</td>\n",
       "      <td>Goalkeeper</td>\n",
       "    </tr>\n",
       "    <tr>\n",
       "      <th>2</th>\n",
       "      <td>Willian</td>\n",
       "      <td>78</td>\n",
       "      <td>0.3</td>\n",
       "      <td>6.5</td>\n",
       "      <td>Arsenal</td>\n",
       "      <td>1398</td>\n",
       "      <td>1</td>\n",
       "      <td>7</td>\n",
       "      <td>3</td>\n",
       "      <td>9</td>\n",
       "      <td>Midfielder</td>\n",
       "    </tr>\n",
       "    <tr>\n",
       "      <th>3</th>\n",
       "      <td>Aubameyang</td>\n",
       "      <td>131</td>\n",
       "      <td>3.8</td>\n",
       "      <td>10.0</td>\n",
       "      <td>Arsenal</td>\n",
       "      <td>2330</td>\n",
       "      <td>10</td>\n",
       "      <td>3</td>\n",
       "      <td>10</td>\n",
       "      <td>11</td>\n",
       "      <td>Forward</td>\n",
       "    </tr>\n",
       "    <tr>\n",
       "      <th>4</th>\n",
       "      <td>Cédric</td>\n",
       "      <td>28</td>\n",
       "      <td>0.3</td>\n",
       "      <td>4.5</td>\n",
       "      <td>Arsenal</td>\n",
       "      <td>744</td>\n",
       "      <td>0</td>\n",
       "      <td>1</td>\n",
       "      <td>2</td>\n",
       "      <td>3</td>\n",
       "      <td>Defender</td>\n",
       "    </tr>\n",
       "    <tr>\n",
       "      <th>...</th>\n",
       "      <td>...</td>\n",
       "      <td>...</td>\n",
       "      <td>...</td>\n",
       "      <td>...</td>\n",
       "      <td>...</td>\n",
       "      <td>...</td>\n",
       "      <td>...</td>\n",
       "      <td>...</td>\n",
       "      <td>...</td>\n",
       "      <td>...</td>\n",
       "      <td>...</td>\n",
       "    </tr>\n",
       "    <tr>\n",
       "      <th>487</th>\n",
       "      <td>Mosquera</td>\n",
       "      <td>0</td>\n",
       "      <td>0.1</td>\n",
       "      <td>4.5</td>\n",
       "      <td>Wolves</td>\n",
       "      <td>0</td>\n",
       "      <td>0</td>\n",
       "      <td>0</td>\n",
       "      <td>0</td>\n",
       "      <td>0</td>\n",
       "      <td>Defender</td>\n",
       "    </tr>\n",
       "    <tr>\n",
       "      <th>488</th>\n",
       "      <td>Ruddy</td>\n",
       "      <td>4</td>\n",
       "      <td>0.3</td>\n",
       "      <td>4.5</td>\n",
       "      <td>Wolves</td>\n",
       "      <td>91</td>\n",
       "      <td>0</td>\n",
       "      <td>0</td>\n",
       "      <td>0</td>\n",
       "      <td>0</td>\n",
       "      <td>Goalkeeper</td>\n",
       "    </tr>\n",
       "    <tr>\n",
       "      <th>489</th>\n",
       "      <td>Trincão</td>\n",
       "      <td>0</td>\n",
       "      <td>0.5</td>\n",
       "      <td>6.0</td>\n",
       "      <td>Wolves</td>\n",
       "      <td>0</td>\n",
       "      <td>0</td>\n",
       "      <td>0</td>\n",
       "      <td>0</td>\n",
       "      <td>0</td>\n",
       "      <td>Midfielder</td>\n",
       "    </tr>\n",
       "    <tr>\n",
       "      <th>490</th>\n",
       "      <td>Ait Nouri</td>\n",
       "      <td>54</td>\n",
       "      <td>1.5</td>\n",
       "      <td>4.5</td>\n",
       "      <td>Wolves</td>\n",
       "      <td>1400</td>\n",
       "      <td>1</td>\n",
       "      <td>1</td>\n",
       "      <td>3</td>\n",
       "      <td>6</td>\n",
       "      <td>Defender</td>\n",
       "    </tr>\n",
       "    <tr>\n",
       "      <th>491</th>\n",
       "      <td>Sá</td>\n",
       "      <td>0</td>\n",
       "      <td>0.5</td>\n",
       "      <td>5.0</td>\n",
       "      <td>Wolves</td>\n",
       "      <td>0</td>\n",
       "      <td>0</td>\n",
       "      <td>0</td>\n",
       "      <td>0</td>\n",
       "      <td>0</td>\n",
       "      <td>Goalkeeper</td>\n",
       "    </tr>\n",
       "  </tbody>\n",
       "</table>\n",
       "<p>492 rows × 11 columns</p>\n",
       "</div>"
      ],
      "text/plain": [
       "           name  points  selected_by_percent  cost     team  minutes  goals  \\\n",
       "0          Leno     131                  2.3   5.0  Arsenal     3131      0   \n",
       "1     Rúnarsson       1                  1.2   4.0  Arsenal       15      0   \n",
       "2       Willian      78                  0.3   6.5  Arsenal     1398      1   \n",
       "3    Aubameyang     131                  3.8  10.0  Arsenal     2330     10   \n",
       "4        Cédric      28                  0.3   4.5  Arsenal      744      0   \n",
       "..          ...     ...                  ...   ...      ...      ...    ...   \n",
       "487    Mosquera       0                  0.1   4.5   Wolves        0      0   \n",
       "488       Ruddy       4                  0.3   4.5   Wolves       91      0   \n",
       "489     Trincão       0                  0.5   6.0   Wolves        0      0   \n",
       "490   Ait Nouri      54                  1.5   4.5   Wolves     1400      1   \n",
       "491          Sá       0                  0.5   5.0   Wolves        0      0   \n",
       "\n",
       "     assists  clean_sheets  bonus    position  \n",
       "0          0            11     11  Goalkeeper  \n",
       "1          0             0      0  Goalkeeper  \n",
       "2          7             3      9  Midfielder  \n",
       "3          3            10     11     Forward  \n",
       "4          1             2      3    Defender  \n",
       "..       ...           ...    ...         ...  \n",
       "487        0             0      0    Defender  \n",
       "488        0             0      0  Goalkeeper  \n",
       "489        0             0      0  Midfielder  \n",
       "490        1             3      6    Defender  \n",
       "491        0             0      0  Goalkeeper  \n",
       "\n",
       "[492 rows x 11 columns]"
      ]
     },
     "execution_count": 18,
     "metadata": {},
     "output_type": "execute_result"
    }
   ],
   "source": [
    "df"
   ]
  },
  {
   "cell_type": "code",
   "execution_count": 19,
   "metadata": {},
   "outputs": [],
   "source": [
    "df['90s'] = df['minutes']/90\n",
    "calc_elements = ['goals', 'assists', 'points']\n",
    "for each in calc_elements:\n",
    "    df[f'{each}_p90'] = df[each] / df['90s']"
   ]
  },
  {
   "cell_type": "code",
   "execution_count": 20,
   "metadata": {},
   "outputs": [],
   "source": [
    "positions = list(df['position'].drop_duplicates())\n",
    "teams = list(df['team'].drop_duplicates())"
   ]
  },
  {
   "cell_type": "code",
   "execution_count": 21,
   "metadata": {},
   "outputs": [
    {
     "name": "stderr",
     "output_type": "stream",
     "text": [
      "2022-09-01 16:56:53.335 \n",
      "  \u001b[33m\u001b[1mWarning:\u001b[0m to view this Streamlit app on a browser, run it with the following\n",
      "  command:\n",
      "\n",
      "    streamlit run /Users/ryantalbot/opt/anaconda3/envs/tf2/lib/python3.9/site-packages/ipykernel_launcher.py [ARGUMENTS]\n"
     ]
    }
   ],
   "source": [
    "position_choice = st.sidebar.multiselect(\n",
    "    'Choose position:', positions, default=positions)"
   ]
  },
  {
   "cell_type": "code",
   "execution_count": 22,
   "metadata": {},
   "outputs": [],
   "source": [
    "# streamlit run /Users/ryantalbot/opt/anaconda3/envs/tf2/lib/python3.9/site-packages/ipykernel_launcher.py"
   ]
  },
  {
   "cell_type": "code",
   "execution_count": 23,
   "metadata": {},
   "outputs": [],
   "source": [
    "teams_choice = st.sidebar.multiselect(\n",
    "    \"Teams:\", teams, default=teams)"
   ]
  },
  {
   "cell_type": "code",
   "execution_count": 24,
   "metadata": {},
   "outputs": [
    {
     "ename": "StreamlitAPIException",
     "evalue": "Slider value arguments must be of matching types.\n`min_value` has int type.\n`max_value` has float type.\n`step` has float type.",
     "output_type": "error",
     "traceback": [
      "\u001b[0;31m---------------------------------------------------------------------------\u001b[0m",
      "\u001b[0;31mStreamlitAPIException\u001b[0m                     Traceback (most recent call last)",
      "Input \u001b[0;32mIn [24]\u001b[0m, in \u001b[0;36m<cell line: 1>\u001b[0;34m()\u001b[0m\n\u001b[0;32m----> 1\u001b[0m price_choice \u001b[38;5;241m=\u001b[39m \u001b[43mst\u001b[49m\u001b[38;5;241;43m.\u001b[39;49m\u001b[43msidebar\u001b[49m\u001b[38;5;241;43m.\u001b[39;49m\u001b[43mslider\u001b[49m\u001b[43m(\u001b[49m\n\u001b[1;32m      2\u001b[0m \u001b[43m    \u001b[49m\u001b[38;5;124;43m'\u001b[39;49m\u001b[38;5;124;43mMax Price:\u001b[39;49m\u001b[38;5;124;43m'\u001b[39;49m\u001b[43m,\u001b[49m\u001b[43m \u001b[49m\u001b[43mmin_value\u001b[49m\u001b[38;5;241;43m=\u001b[39;49m\u001b[38;5;241;43m4\u001b[39;49m\u001b[43m,\u001b[49m\u001b[43m \u001b[49m\u001b[43mmax_value\u001b[49m\u001b[38;5;241;43m=\u001b[39;49m\u001b[38;5;241;43m15.0\u001b[39;49m\u001b[43m,\u001b[49m\u001b[43m \u001b[49m\u001b[43mstep\u001b[49m\u001b[38;5;241;43m=\u001b[39;49m\u001b[38;5;241;43m.5\u001b[39;49m\u001b[43m,\u001b[49m\u001b[43m \u001b[49m\u001b[43mvalue\u001b[49m\u001b[38;5;241;43m=\u001b[39;49m\u001b[38;5;241;43m15.0\u001b[39;49m\u001b[43m)\u001b[49m\n",
      "File \u001b[0;32m~/opt/anaconda3/envs/tf2/lib/python3.9/site-packages/streamlit/elements/slider.py:153\u001b[0m, in \u001b[0;36mSliderMixin.slider\u001b[0;34m(self, label, min_value, max_value, value, step, format, key, help, on_change, args, kwargs, disabled)\u001b[0m\n\u001b[1;32m     54\u001b[0m \u001b[38;5;124;03m\"\"\"Display a slider widget.\u001b[39;00m\n\u001b[1;32m     55\u001b[0m \n\u001b[1;32m     56\u001b[0m \u001b[38;5;124;03mThis supports int, float, date, time, and datetime types.\u001b[39;00m\n\u001b[0;32m   (...)\u001b[0m\n\u001b[1;32m    150\u001b[0m \n\u001b[1;32m    151\u001b[0m \u001b[38;5;124;03m\"\"\"\u001b[39;00m\n\u001b[1;32m    152\u001b[0m ctx \u001b[38;5;241m=\u001b[39m get_script_run_ctx()\n\u001b[0;32m--> 153\u001b[0m \u001b[38;5;28;01mreturn\u001b[39;00m \u001b[38;5;28;43mself\u001b[39;49m\u001b[38;5;241;43m.\u001b[39;49m\u001b[43m_slider\u001b[49m\u001b[43m(\u001b[49m\n\u001b[1;32m    154\u001b[0m \u001b[43m    \u001b[49m\u001b[43mlabel\u001b[49m\u001b[38;5;241;43m=\u001b[39;49m\u001b[43mlabel\u001b[49m\u001b[43m,\u001b[49m\n\u001b[1;32m    155\u001b[0m \u001b[43m    \u001b[49m\u001b[43mmin_value\u001b[49m\u001b[38;5;241;43m=\u001b[39;49m\u001b[43mmin_value\u001b[49m\u001b[43m,\u001b[49m\n\u001b[1;32m    156\u001b[0m \u001b[43m    \u001b[49m\u001b[43mmax_value\u001b[49m\u001b[38;5;241;43m=\u001b[39;49m\u001b[43mmax_value\u001b[49m\u001b[43m,\u001b[49m\n\u001b[1;32m    157\u001b[0m \u001b[43m    \u001b[49m\u001b[43mvalue\u001b[49m\u001b[38;5;241;43m=\u001b[39;49m\u001b[43mvalue\u001b[49m\u001b[43m,\u001b[49m\n\u001b[1;32m    158\u001b[0m \u001b[43m    \u001b[49m\u001b[43mstep\u001b[49m\u001b[38;5;241;43m=\u001b[39;49m\u001b[43mstep\u001b[49m\u001b[43m,\u001b[49m\n\u001b[1;32m    159\u001b[0m \u001b[43m    \u001b[49m\u001b[38;5;28;43mformat\u001b[39;49m\u001b[38;5;241;43m=\u001b[39;49m\u001b[38;5;28;43mformat\u001b[39;49m\u001b[43m,\u001b[49m\n\u001b[1;32m    160\u001b[0m \u001b[43m    \u001b[49m\u001b[43mkey\u001b[49m\u001b[38;5;241;43m=\u001b[39;49m\u001b[43mkey\u001b[49m\u001b[43m,\u001b[49m\n\u001b[1;32m    161\u001b[0m \u001b[43m    \u001b[49m\u001b[43mhelp\u001b[49m\u001b[38;5;241;43m=\u001b[39;49m\u001b[43mhelp\u001b[49m\u001b[43m,\u001b[49m\n\u001b[1;32m    162\u001b[0m \u001b[43m    \u001b[49m\u001b[43mon_change\u001b[49m\u001b[38;5;241;43m=\u001b[39;49m\u001b[43mon_change\u001b[49m\u001b[43m,\u001b[49m\n\u001b[1;32m    163\u001b[0m \u001b[43m    \u001b[49m\u001b[43margs\u001b[49m\u001b[38;5;241;43m=\u001b[39;49m\u001b[43margs\u001b[49m\u001b[43m,\u001b[49m\n\u001b[1;32m    164\u001b[0m \u001b[43m    \u001b[49m\u001b[43mkwargs\u001b[49m\u001b[38;5;241;43m=\u001b[39;49m\u001b[43mkwargs\u001b[49m\u001b[43m,\u001b[49m\n\u001b[1;32m    165\u001b[0m \u001b[43m    \u001b[49m\u001b[43mdisabled\u001b[49m\u001b[38;5;241;43m=\u001b[39;49m\u001b[43mdisabled\u001b[49m\u001b[43m,\u001b[49m\n\u001b[1;32m    166\u001b[0m \u001b[43m    \u001b[49m\u001b[43mctx\u001b[49m\u001b[38;5;241;43m=\u001b[39;49m\u001b[43mctx\u001b[49m\u001b[43m,\u001b[49m\n\u001b[1;32m    167\u001b[0m \u001b[43m\u001b[49m\u001b[43m)\u001b[49m\n",
      "File \u001b[0;32m~/opt/anaconda3/envs/tf2/lib/python3.9/site-packages/streamlit/elements/slider.py:312\u001b[0m, in \u001b[0;36mSliderMixin._slider\u001b[0;34m(self, label, min_value, max_value, value, step, format, key, help, on_change, args, kwargs, disabled, ctx)\u001b[0m\n\u001b[1;32m    305\u001b[0m timelike_args \u001b[38;5;241m=\u001b[39m (\n\u001b[1;32m    306\u001b[0m     data_type \u001b[38;5;129;01min\u001b[39;00m TIMELIKE_TYPES\n\u001b[1;32m    307\u001b[0m     \u001b[38;5;129;01mand\u001b[39;00m \u001b[38;5;28misinstance\u001b[39m(step, timedelta)\n\u001b[1;32m    308\u001b[0m     \u001b[38;5;129;01mand\u001b[39;00m \u001b[38;5;28mtype\u001b[39m(min_value) \u001b[38;5;241m==\u001b[39m \u001b[38;5;28mtype\u001b[39m(max_value)\n\u001b[1;32m    309\u001b[0m )\n\u001b[1;32m    311\u001b[0m \u001b[38;5;28;01mif\u001b[39;00m \u001b[38;5;129;01mnot\u001b[39;00m int_args \u001b[38;5;129;01mand\u001b[39;00m \u001b[38;5;129;01mnot\u001b[39;00m float_args \u001b[38;5;129;01mand\u001b[39;00m \u001b[38;5;129;01mnot\u001b[39;00m timelike_args:\n\u001b[0;32m--> 312\u001b[0m     \u001b[38;5;28;01mraise\u001b[39;00m StreamlitAPIException(\n\u001b[1;32m    313\u001b[0m         \u001b[38;5;124m\"\u001b[39m\u001b[38;5;124mSlider value arguments must be of matching types.\u001b[39m\u001b[38;5;124m\"\u001b[39m\n\u001b[1;32m    314\u001b[0m         \u001b[38;5;124m\"\u001b[39m\u001b[38;5;130;01m\\n\u001b[39;00m\u001b[38;5;124m`min_value` has \u001b[39m\u001b[38;5;132;01m%(min_type)s\u001b[39;00m\u001b[38;5;124m type.\u001b[39m\u001b[38;5;124m\"\u001b[39m\n\u001b[1;32m    315\u001b[0m         \u001b[38;5;124m\"\u001b[39m\u001b[38;5;130;01m\\n\u001b[39;00m\u001b[38;5;124m`max_value` has \u001b[39m\u001b[38;5;132;01m%(max_type)s\u001b[39;00m\u001b[38;5;124m type.\u001b[39m\u001b[38;5;124m\"\u001b[39m\n\u001b[1;32m    316\u001b[0m         \u001b[38;5;124m\"\u001b[39m\u001b[38;5;130;01m\\n\u001b[39;00m\u001b[38;5;124m`step` has \u001b[39m\u001b[38;5;132;01m%(step)s\u001b[39;00m\u001b[38;5;124m type.\u001b[39m\u001b[38;5;124m\"\u001b[39m\n\u001b[1;32m    317\u001b[0m         \u001b[38;5;241m%\u001b[39m {\n\u001b[1;32m    318\u001b[0m             \u001b[38;5;124m\"\u001b[39m\u001b[38;5;124mmin_type\u001b[39m\u001b[38;5;124m\"\u001b[39m: \u001b[38;5;28mtype\u001b[39m(min_value)\u001b[38;5;241m.\u001b[39m\u001b[38;5;18m__name__\u001b[39m,\n\u001b[1;32m    319\u001b[0m             \u001b[38;5;124m\"\u001b[39m\u001b[38;5;124mmax_type\u001b[39m\u001b[38;5;124m\"\u001b[39m: \u001b[38;5;28mtype\u001b[39m(max_value)\u001b[38;5;241m.\u001b[39m\u001b[38;5;18m__name__\u001b[39m,\n\u001b[1;32m    320\u001b[0m             \u001b[38;5;124m\"\u001b[39m\u001b[38;5;124mstep\u001b[39m\u001b[38;5;124m\"\u001b[39m: \u001b[38;5;28mtype\u001b[39m(step)\u001b[38;5;241m.\u001b[39m\u001b[38;5;18m__name__\u001b[39m,\n\u001b[1;32m    321\u001b[0m         }\n\u001b[1;32m    322\u001b[0m     )\n\u001b[1;32m    324\u001b[0m \u001b[38;5;66;03m# Ensure that the value matches arguments' types.\u001b[39;00m\n\u001b[1;32m    325\u001b[0m all_ints \u001b[38;5;241m=\u001b[39m data_type \u001b[38;5;241m==\u001b[39m SliderProto\u001b[38;5;241m.\u001b[39mINT \u001b[38;5;129;01mand\u001b[39;00m int_args\n",
      "\u001b[0;31mStreamlitAPIException\u001b[0m: Slider value arguments must be of matching types.\n`min_value` has int type.\n`max_value` has float type.\n`step` has float type."
     ]
    }
   ],
   "source": [
    "price_choice = st.sidebar.slider(\n",
    "    'Max Price:', min_value=4, max_value=15.0, step=.5, value=15.0)"
   ]
  },
  {
   "cell_type": "code",
   "execution_count": null,
   "metadata": {},
   "outputs": [],
   "source": [
    "df = df[df['position'].isin(position_choice)]\n",
    "df = df[df['team'].isin(teams_choice)]\n",
    "df = df[df['cost'] < price_choice]"
   ]
  },
  {
   "cell_type": "code",
   "execution_count": null,
   "metadata": {},
   "outputs": [],
   "source": [
    "st.title(f\"Fantasy Football Analysis\")"
   ]
  },
  {
   "cell_type": "code",
   "execution_count": null,
   "metadata": {},
   "outputs": [],
   "source": [
    "st.markdown('### Player Dataframe')"
   ]
  },
  {
   "cell_type": "code",
   "execution_count": null,
   "metadata": {},
   "outputs": [],
   "source": [
    "st.dataframe(df.sort_values('points',\n",
    "             ascending=False).reset_index(drop=True))"
   ]
  },
  {
   "cell_type": "code",
   "execution_count": null,
   "metadata": {},
   "outputs": [],
   "source": [
    "# This is our header\n",
    " st.markdown('### Cost vs 20/21 Points')\n",
    "#  This is our plot\n",
    " st.vega_lite_chart(df, {\n",
    "     'mark': {'type': 'circle', 'tooltip': True},\n",
    "     'encoding': {\n",
    "         'x': {'field': 'cost', 'type': 'quantitative'},\n",
    "         'y': {'field': 'points', 'type': 'quantitative'},\n",
    "         'color': {'field': 'position', 'type': 'nominal'},\n",
    "         'tooltip': [{\"field\": 'name', 'type': 'nominal'}, {'field': 'cost', 'type': 'quantitative'}, {'field': 'points', 'type': 'quantitative'}],\n",
    "     },\n",
    "     'width': 700,\n",
    "     'height': 400,\n",
    " })"
   ]
  },
  {
   "cell_type": "code",
   "execution_count": null,
   "metadata": {},
   "outputs": [],
   "source": [
    "st.vega_lite_chart(df, {\n",
    "     'mark': {'type': 'circle', 'tooltip': True},\n",
    "     'encoding': {\n",
    "         'x': {'field': 'goals_p90', 'type': 'quantitative'},\n",
    "         'y': {'field': 'assists_p90', 'type': 'quantitative'},\n",
    "         'color': {'field': 'position', 'type': 'nominal'},\n",
    "         'tooltip': [{\"field\": 'name', 'type': 'nominal'}, {'field': 'cost', 'type': 'quantitative'}, {'field': 'points', 'type': 'quantitative'}],\n",
    "     },\n",
    "     'width': 700,\n",
    "     'height': 400,\n",
    " })"
   ]
  },
  {
   "cell_type": "code",
   "execution_count": null,
   "metadata": {},
   "outputs": [],
   "source": []
  }
 ],
 "metadata": {
  "kernelspec": {
   "display_name": "Python 3 (ipykernel)",
   "language": "python",
   "name": "python3"
  },
  "language_info": {
   "codemirror_mode": {
    "name": "ipython",
    "version": 3
   },
   "file_extension": ".py",
   "mimetype": "text/x-python",
   "name": "python",
   "nbconvert_exporter": "python",
   "pygments_lexer": "ipython3",
   "version": "3.9.12"
  }
 },
 "nbformat": 4,
 "nbformat_minor": 2
}
